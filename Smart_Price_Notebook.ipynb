{
 "cells": [
  {
   "cell_type": "markdown",
   "id": "1ee5d3f0-fef0-4cc4-8c20-fb1711de106f",
   "metadata": {},
   "source": [
    "# Smart Price Optimization System  \n",
    "_A data-driven system to recommend optimal product prices to maximize sales and revenue_\n"
   ]
  },
  {
   "cell_type": "markdown",
   "id": "f4783cea-5dfb-4616-a419-2fe918ba9bbb",
   "metadata": {},
   "source": [
    "## 2. Acceptance Criteria  \n",
    "The project will be considered successful if:  \n",
    "1. **Revenue uplift ≥ 5%** in backtests compared to historical actual revenue.  \n",
    "2. **Prediction error (RMSE)** at least 15% lower than naive baseline (last period’s sales).  \n",
    "3. Price recommendations remain within **±30% of current price** (safety).  \n",
    "4. Feature importance shows business-relevant drivers (price, competitor price, seasonality). "
   ]
  },
  {
   "cell_type": "markdown",
   "id": "3e9d5ffb-400f-4109-a8ed-1514a5379b23",
   "metadata": {},
   "source": [
    "# Imports"
   ]
  },
  {
   "cell_type": "code",
   "execution_count": 2,
   "id": "b4827c5b-a228-4d1f-96e5-f1640c3fb5e1",
   "metadata": {},
   "outputs": [
    {
     "name": "stdout",
     "output_type": "stream",
     "text": [
      "Requirement already satisfied: pandas in d:\\smart_price\\smart_price\\lib\\site-packages (2.3.2)\n",
      "Requirement already satisfied: numpy in d:\\smart_price\\smart_price\\lib\\site-packages (2.3.3)\n",
      "Requirement already satisfied: matplotlib in d:\\smart_price\\smart_price\\lib\\site-packages (3.10.6)\n",
      "Requirement already satisfied: seaborn in d:\\smart_price\\smart_price\\lib\\site-packages (0.13.2)\n",
      "Requirement already satisfied: scikit-learn in d:\\smart_price\\smart_price\\lib\\site-packages (1.7.2)\n",
      "Requirement already satisfied: xgboost in d:\\smart_price\\smart_price\\lib\\site-packages (3.0.5)\n",
      "Requirement already satisfied: joblib in d:\\smart_price\\smart_price\\lib\\site-packages (1.5.2)\n",
      "Requirement already satisfied: openpyxl in d:\\smart_price\\smart_price\\lib\\site-packages (3.1.5)\n",
      "Requirement already satisfied: python-dateutil>=2.8.2 in d:\\smart_price\\smart_price\\lib\\site-packages (from pandas) (2.9.0.post0)\n",
      "Requirement already satisfied: pytz>=2020.1 in d:\\smart_price\\smart_price\\lib\\site-packages (from pandas) (2025.2)\n",
      "Requirement already satisfied: tzdata>=2022.7 in d:\\smart_price\\smart_price\\lib\\site-packages (from pandas) (2025.2)\n",
      "Requirement already satisfied: contourpy>=1.0.1 in d:\\smart_price\\smart_price\\lib\\site-packages (from matplotlib) (1.3.3)\n",
      "Requirement already satisfied: cycler>=0.10 in d:\\smart_price\\smart_price\\lib\\site-packages (from matplotlib) (0.12.1)\n",
      "Requirement already satisfied: fonttools>=4.22.0 in d:\\smart_price\\smart_price\\lib\\site-packages (from matplotlib) (4.60.0)\n",
      "Requirement already satisfied: kiwisolver>=1.3.1 in d:\\smart_price\\smart_price\\lib\\site-packages (from matplotlib) (1.4.9)\n",
      "Requirement already satisfied: packaging>=20.0 in d:\\smart_price\\smart_price\\lib\\site-packages (from matplotlib) (25.0)\n",
      "Requirement already satisfied: pillow>=8 in d:\\smart_price\\smart_price\\lib\\site-packages (from matplotlib) (11.3.0)\n",
      "Requirement already satisfied: pyparsing>=2.3.1 in d:\\smart_price\\smart_price\\lib\\site-packages (from matplotlib) (3.2.4)\n",
      "Requirement already satisfied: scipy>=1.8.0 in d:\\smart_price\\smart_price\\lib\\site-packages (from scikit-learn) (1.16.2)\n",
      "Requirement already satisfied: threadpoolctl>=3.1.0 in d:\\smart_price\\smart_price\\lib\\site-packages (from scikit-learn) (3.6.0)\n",
      "Requirement already satisfied: et-xmlfile in d:\\smart_price\\smart_price\\lib\\site-packages (from openpyxl) (2.0.0)\n",
      "Requirement already satisfied: six>=1.5 in d:\\smart_price\\smart_price\\lib\\site-packages (from python-dateutil>=2.8.2->pandas) (1.17.0)\n"
     ]
    }
   ],
   "source": [
    "!pip install pandas numpy matplotlib seaborn scikit-learn xgboost joblib openpyxl\n"
   ]
  },
  {
   "cell_type": "code",
   "execution_count": 1,
   "id": "79d0aa19-bce3-409b-ac6c-eea912b4bb71",
   "metadata": {},
   "outputs": [],
   "source": [
    "import os\n",
    "import sys\n",
    "import numpy as np\n",
    "import pandas as pd\n",
    "import matplotlib.pyplot as plt\n",
    "import seaborn as sns\n",
    "import joblib\n",
    "import warnings\n",
    "warnings.filterwarnings(\"ignore\")\n",
    "\n",
    "from datetime import datetime\n",
    "from sklearn.model_selection import train_test_split\n",
    "from sklearn.metrics import mean_squared_error, mean_absolute_error, r2_score\n",
    "from sklearn.cluster import KMeans\n",
    "import xgboost as xgb\n",
    "from sklearn.ensemble import RandomForestRegressor\n",
    "\n"
   ]
  },
  {
   "cell_type": "code",
   "execution_count": 2,
   "id": "4a45841b-e2e3-496f-a065-66d121d9b85c",
   "metadata": {},
   "outputs": [],
   "source": [
    "#!pip install --upgrade xgboost"
   ]
  },
  {
   "cell_type": "markdown",
   "id": "7c360e03-01d6-40f4-90b2-369552822810",
   "metadata": {},
   "source": [
    "# Load Dataset"
   ]
  },
  {
   "cell_type": "code",
   "execution_count": 3,
   "id": "318b65a3-af7c-4bd7-b9db-9ded17cdfff6",
   "metadata": {},
   "outputs": [],
   "source": [
    "df = pd.read_excel('online_retail_II.xlsx')"
   ]
  },
  {
   "cell_type": "code",
   "execution_count": 4,
   "id": "c24df44d-4695-4d30-a6cd-00b2f97ec00c",
   "metadata": {},
   "outputs": [
    {
     "data": {
      "text/plain": [
       "(525461, 8)"
      ]
     },
     "execution_count": 4,
     "metadata": {},
     "output_type": "execute_result"
    }
   ],
   "source": [
    "df.shape"
   ]
  },
  {
   "cell_type": "code",
   "execution_count": 5,
   "id": "bec2c544-cea5-4fd1-9177-7737ae231c59",
   "metadata": {
    "scrolled": true
   },
   "outputs": [
    {
     "data": {
      "text/html": [
       "<div>\n",
       "<style scoped>\n",
       "    .dataframe tbody tr th:only-of-type {\n",
       "        vertical-align: middle;\n",
       "    }\n",
       "\n",
       "    .dataframe tbody tr th {\n",
       "        vertical-align: top;\n",
       "    }\n",
       "\n",
       "    .dataframe thead th {\n",
       "        text-align: right;\n",
       "    }\n",
       "</style>\n",
       "<table border=\"1\" class=\"dataframe\">\n",
       "  <thead>\n",
       "    <tr style=\"text-align: right;\">\n",
       "      <th></th>\n",
       "      <th>Invoice</th>\n",
       "      <th>StockCode</th>\n",
       "      <th>Description</th>\n",
       "      <th>Quantity</th>\n",
       "      <th>InvoiceDate</th>\n",
       "      <th>Price</th>\n",
       "      <th>Customer ID</th>\n",
       "      <th>Country</th>\n",
       "    </tr>\n",
       "  </thead>\n",
       "  <tbody>\n",
       "    <tr>\n",
       "      <th>0</th>\n",
       "      <td>489434</td>\n",
       "      <td>85048</td>\n",
       "      <td>15CM CHRISTMAS GLASS BALL 20 LIGHTS</td>\n",
       "      <td>12</td>\n",
       "      <td>2009-12-01 07:45:00</td>\n",
       "      <td>6.95</td>\n",
       "      <td>13085.0</td>\n",
       "      <td>United Kingdom</td>\n",
       "    </tr>\n",
       "    <tr>\n",
       "      <th>1</th>\n",
       "      <td>489434</td>\n",
       "      <td>79323P</td>\n",
       "      <td>PINK CHERRY LIGHTS</td>\n",
       "      <td>12</td>\n",
       "      <td>2009-12-01 07:45:00</td>\n",
       "      <td>6.75</td>\n",
       "      <td>13085.0</td>\n",
       "      <td>United Kingdom</td>\n",
       "    </tr>\n",
       "    <tr>\n",
       "      <th>2</th>\n",
       "      <td>489434</td>\n",
       "      <td>79323W</td>\n",
       "      <td>WHITE CHERRY LIGHTS</td>\n",
       "      <td>12</td>\n",
       "      <td>2009-12-01 07:45:00</td>\n",
       "      <td>6.75</td>\n",
       "      <td>13085.0</td>\n",
       "      <td>United Kingdom</td>\n",
       "    </tr>\n",
       "    <tr>\n",
       "      <th>3</th>\n",
       "      <td>489434</td>\n",
       "      <td>22041</td>\n",
       "      <td>RECORD FRAME 7\" SINGLE SIZE</td>\n",
       "      <td>48</td>\n",
       "      <td>2009-12-01 07:45:00</td>\n",
       "      <td>2.10</td>\n",
       "      <td>13085.0</td>\n",
       "      <td>United Kingdom</td>\n",
       "    </tr>\n",
       "    <tr>\n",
       "      <th>4</th>\n",
       "      <td>489434</td>\n",
       "      <td>21232</td>\n",
       "      <td>STRAWBERRY CERAMIC TRINKET BOX</td>\n",
       "      <td>24</td>\n",
       "      <td>2009-12-01 07:45:00</td>\n",
       "      <td>1.25</td>\n",
       "      <td>13085.0</td>\n",
       "      <td>United Kingdom</td>\n",
       "    </tr>\n",
       "  </tbody>\n",
       "</table>\n",
       "</div>"
      ],
      "text/plain": [
       "  Invoice StockCode                          Description  Quantity  \\\n",
       "0  489434     85048  15CM CHRISTMAS GLASS BALL 20 LIGHTS        12   \n",
       "1  489434    79323P                   PINK CHERRY LIGHTS        12   \n",
       "2  489434    79323W                  WHITE CHERRY LIGHTS        12   \n",
       "3  489434     22041         RECORD FRAME 7\" SINGLE SIZE         48   \n",
       "4  489434     21232       STRAWBERRY CERAMIC TRINKET BOX        24   \n",
       "\n",
       "          InvoiceDate  Price  Customer ID         Country  \n",
       "0 2009-12-01 07:45:00   6.95      13085.0  United Kingdom  \n",
       "1 2009-12-01 07:45:00   6.75      13085.0  United Kingdom  \n",
       "2 2009-12-01 07:45:00   6.75      13085.0  United Kingdom  \n",
       "3 2009-12-01 07:45:00   2.10      13085.0  United Kingdom  \n",
       "4 2009-12-01 07:45:00   1.25      13085.0  United Kingdom  "
      ]
     },
     "execution_count": 5,
     "metadata": {},
     "output_type": "execute_result"
    }
   ],
   "source": [
    "df.head()"
   ]
  },
  {
   "cell_type": "markdown",
   "id": "bcdc63da-272f-49cc-8d46-d6b066f445e4",
   "metadata": {},
   "source": [
    "# Data Preprocessing\n",
    "\n",
    "Steps:\n",
    "1. Convert `InvoiceDate` to datetime\n",
    "2. Remove negative/zero quantities & prices\n",
    "3. Remove cancellations (InvoiceNo starting with 'C')\n",
    "4. Standardize text in `Description`\n",
    "5. Compute revenue per row\n",
    "6. Handle missing value\n",
    "7. remove dublicate"
   ]
  },
  {
   "cell_type": "code",
   "execution_count": 6,
   "id": "a508442f-ea53-4306-9c99-870c2d602cda",
   "metadata": {},
   "outputs": [
    {
     "name": "stdout",
     "output_type": "stream",
     "text": [
      "Customer ID    107927\n",
      "Description      2928\n",
      "StockCode           0\n",
      "Invoice             0\n",
      "Quantity            0\n",
      "InvoiceDate         0\n",
      "Price               0\n",
      "Country             0\n",
      "dtype: int64\n"
     ]
    }
   ],
   "source": [
    "missing = df.isna().sum().sort_values(ascending=False)\n",
    "print(missing)"
   ]
  },
  {
   "cell_type": "code",
   "execution_count": 7,
   "id": "2cf5d631-03fa-4ee4-a603-8f35ded16870",
   "metadata": {},
   "outputs": [],
   "source": [
    "df = df.dropna(subset=['Customer ID'])"
   ]
  },
  {
   "cell_type": "code",
   "execution_count": 8,
   "id": "f23c8d5d-7eb1-4416-ae2f-64fe60e4d808",
   "metadata": {},
   "outputs": [],
   "source": [
    "df.drop_duplicates(inplace=True)"
   ]
  },
  {
   "cell_type": "code",
   "execution_count": 9,
   "id": "7044a62c-19ea-488f-84e6-4ad24edee1fa",
   "metadata": {},
   "outputs": [],
   "source": [
    "df['InvoiceDate'] = pd.to_datetime(df['InvoiceDate'])\n",
    "df = df[(df['Price'] > 0) & (df['Quantity'] > 0)]\n",
    "df = df[~df['Invoice'].astype(str).str.startswith('C')]\n",
    "df['Description'] = df['Description'].astype(str).str.strip().str.lower()\n",
    "df['revenue'] = df['Price'] * df['Quantity']\n"
   ]
  },
  {
   "cell_type": "code",
   "execution_count": 10,
   "id": "72264248-6d1b-42a4-9616-594b59f30554",
   "metadata": {},
   "outputs": [
    {
     "name": "stdout",
     "output_type": "stream",
     "text": [
      "After cleaning shape: (400916, 9)\n"
     ]
    },
    {
     "data": {
      "text/html": [
       "<div>\n",
       "<style scoped>\n",
       "    .dataframe tbody tr th:only-of-type {\n",
       "        vertical-align: middle;\n",
       "    }\n",
       "\n",
       "    .dataframe tbody tr th {\n",
       "        vertical-align: top;\n",
       "    }\n",
       "\n",
       "    .dataframe thead th {\n",
       "        text-align: right;\n",
       "    }\n",
       "</style>\n",
       "<table border=\"1\" class=\"dataframe\">\n",
       "  <thead>\n",
       "    <tr style=\"text-align: right;\">\n",
       "      <th></th>\n",
       "      <th>Invoice</th>\n",
       "      <th>StockCode</th>\n",
       "      <th>Description</th>\n",
       "      <th>Quantity</th>\n",
       "      <th>InvoiceDate</th>\n",
       "      <th>Price</th>\n",
       "      <th>Customer ID</th>\n",
       "      <th>Country</th>\n",
       "      <th>revenue</th>\n",
       "    </tr>\n",
       "  </thead>\n",
       "  <tbody>\n",
       "    <tr>\n",
       "      <th>0</th>\n",
       "      <td>489434</td>\n",
       "      <td>85048</td>\n",
       "      <td>15cm christmas glass ball 20 lights</td>\n",
       "      <td>12</td>\n",
       "      <td>2009-12-01 07:45:00</td>\n",
       "      <td>6.95</td>\n",
       "      <td>13085.0</td>\n",
       "      <td>United Kingdom</td>\n",
       "      <td>83.4</td>\n",
       "    </tr>\n",
       "    <tr>\n",
       "      <th>1</th>\n",
       "      <td>489434</td>\n",
       "      <td>79323P</td>\n",
       "      <td>pink cherry lights</td>\n",
       "      <td>12</td>\n",
       "      <td>2009-12-01 07:45:00</td>\n",
       "      <td>6.75</td>\n",
       "      <td>13085.0</td>\n",
       "      <td>United Kingdom</td>\n",
       "      <td>81.0</td>\n",
       "    </tr>\n",
       "    <tr>\n",
       "      <th>2</th>\n",
       "      <td>489434</td>\n",
       "      <td>79323W</td>\n",
       "      <td>white cherry lights</td>\n",
       "      <td>12</td>\n",
       "      <td>2009-12-01 07:45:00</td>\n",
       "      <td>6.75</td>\n",
       "      <td>13085.0</td>\n",
       "      <td>United Kingdom</td>\n",
       "      <td>81.0</td>\n",
       "    </tr>\n",
       "    <tr>\n",
       "      <th>3</th>\n",
       "      <td>489434</td>\n",
       "      <td>22041</td>\n",
       "      <td>record frame 7\" single size</td>\n",
       "      <td>48</td>\n",
       "      <td>2009-12-01 07:45:00</td>\n",
       "      <td>2.10</td>\n",
       "      <td>13085.0</td>\n",
       "      <td>United Kingdom</td>\n",
       "      <td>100.8</td>\n",
       "    </tr>\n",
       "    <tr>\n",
       "      <th>4</th>\n",
       "      <td>489434</td>\n",
       "      <td>21232</td>\n",
       "      <td>strawberry ceramic trinket box</td>\n",
       "      <td>24</td>\n",
       "      <td>2009-12-01 07:45:00</td>\n",
       "      <td>1.25</td>\n",
       "      <td>13085.0</td>\n",
       "      <td>United Kingdom</td>\n",
       "      <td>30.0</td>\n",
       "    </tr>\n",
       "  </tbody>\n",
       "</table>\n",
       "</div>"
      ],
      "text/plain": [
       "  Invoice StockCode                          Description  Quantity  \\\n",
       "0  489434     85048  15cm christmas glass ball 20 lights        12   \n",
       "1  489434    79323P                   pink cherry lights        12   \n",
       "2  489434    79323W                  white cherry lights        12   \n",
       "3  489434     22041          record frame 7\" single size        48   \n",
       "4  489434     21232       strawberry ceramic trinket box        24   \n",
       "\n",
       "          InvoiceDate  Price  Customer ID         Country  revenue  \n",
       "0 2009-12-01 07:45:00   6.95      13085.0  United Kingdom     83.4  \n",
       "1 2009-12-01 07:45:00   6.75      13085.0  United Kingdom     81.0  \n",
       "2 2009-12-01 07:45:00   6.75      13085.0  United Kingdom     81.0  \n",
       "3 2009-12-01 07:45:00   2.10      13085.0  United Kingdom    100.8  \n",
       "4 2009-12-01 07:45:00   1.25      13085.0  United Kingdom     30.0  "
      ]
     },
     "metadata": {},
     "output_type": "display_data"
    }
   ],
   "source": [
    "print(\"After cleaning shape:\", df.shape,)\n",
    "display(df.head())\n"
   ]
  },
  {
   "cell_type": "code",
   "execution_count": 11,
   "id": "af7650af-9e8e-44b7-8c7a-3e743bd37f6e",
   "metadata": {},
   "outputs": [
    {
     "data": {
      "text/plain": [
       "(400916, 9)"
      ]
     },
     "execution_count": 11,
     "metadata": {},
     "output_type": "execute_result"
    }
   ],
   "source": [
    "df.shape"
   ]
  },
  {
   "cell_type": "markdown",
   "id": "18a79554-ab11-4f37-87c4-47cae146d56d",
   "metadata": {},
   "source": [
    "## Clean Data"
   ]
  },
  {
   "cell_type": "code",
   "execution_count": 12,
   "id": "2531742b-43e1-4224-8e94-1a18e320cda1",
   "metadata": {},
   "outputs": [],
   "source": [
    "# os.makedirs(\"data\", exist_ok=True)\n",
    "# df.to_csv(\"data/online_retail_ii_clean.csv\", index=False)\n"
   ]
  },
  {
   "cell_type": "code",
   "execution_count": 13,
   "id": "d60c87c2-a754-43d0-832f-06b5067b8aea",
   "metadata": {},
   "outputs": [],
   "source": [
    "#df = pd.read_csv(\"data/online_retail_ii_clean.csv\")"
   ]
  },
  {
   "cell_type": "code",
   "execution_count": 14,
   "id": "a0342e16-ad3d-4474-83ed-2a2f432aff71",
   "metadata": {},
   "outputs": [
    {
     "name": "stdout",
     "output_type": "stream",
     "text": [
      "order_type\n",
      "retail       400374\n",
      "wholesale       542\n",
      "Name: count, dtype: int64\n"
     ]
    }
   ],
   "source": [
    "# --- Split Retail vs Wholesale Customers ---\n",
    "BULK_THRESHOLD = 500   # e.g., if order > 500 units = wholesale\n",
    "\n",
    "df['order_type'] = np.where(df['Quantity'] > BULK_THRESHOLD, 'wholesale', 'retail')\n",
    "\n",
    "print(df['order_type'].value_counts())\n"
   ]
  },
  {
   "cell_type": "code",
   "execution_count": 15,
   "id": "ef2b6fbe-e391-4060-bf93-5b051b38ca6f",
   "metadata": {},
   "outputs": [],
   "source": [
    "# retail_df = df[df['order_type']=='retail']\n",
    "# wholesale_df = df[df['order_type']=='wholesale']\n"
   ]
  },
  {
   "cell_type": "markdown",
   "id": "153af9dd-9fe5-4904-abb5-47d0ce65865c",
   "metadata": {},
   "source": [
    "# Aggregate Data to Product x Week Level\n",
    "\n",
    "- Convert InvoiceDate to week (start of week)\n",
    "- Aggregate metrics: avg_price, total_quantity, total_revenue, number of transactions\n",
    "- Filter SKUs with enough history"
   ]
  },
  {
   "cell_type": "code",
   "execution_count": 16,
   "id": "524095d9-a039-45fd-ae26-cb8f12f3bb04",
   "metadata": {},
   "outputs": [],
   "source": [
    "df['week'] = df['InvoiceDate'].dt.to_period('W').apply(lambda r: r.start_time)\n",
    "\n",
    "agg = df.groupby(['StockCode','week']).agg(\n",
    "    avg_price = ('Price','mean'),\n",
    "    total_quantity = ('Quantity','sum'),\n",
    "    total_revenue = ('revenue','sum'),\n",
    "    n_transactions = ('Invoice','nunique')\n",
    ").reset_index()\n",
    "\n",
    "agg = agg[agg['total_quantity'] > 0]"
   ]
  },
  {
   "cell_type": "code",
   "execution_count": 17,
   "id": "fdc9112f-d576-4b33-88cf-54722aa1ec87",
   "metadata": {},
   "outputs": [
    {
     "data": {
      "text/html": [
       "<div>\n",
       "<style scoped>\n",
       "    .dataframe tbody tr th:only-of-type {\n",
       "        vertical-align: middle;\n",
       "    }\n",
       "\n",
       "    .dataframe tbody tr th {\n",
       "        vertical-align: top;\n",
       "    }\n",
       "\n",
       "    .dataframe thead th {\n",
       "        text-align: right;\n",
       "    }\n",
       "</style>\n",
       "<table border=\"1\" class=\"dataframe\">\n",
       "  <thead>\n",
       "    <tr style=\"text-align: right;\">\n",
       "      <th></th>\n",
       "      <th>Invoice</th>\n",
       "      <th>StockCode</th>\n",
       "      <th>Description</th>\n",
       "      <th>Quantity</th>\n",
       "      <th>InvoiceDate</th>\n",
       "      <th>Price</th>\n",
       "      <th>Customer ID</th>\n",
       "      <th>Country</th>\n",
       "      <th>revenue</th>\n",
       "      <th>order_type</th>\n",
       "      <th>week</th>\n",
       "    </tr>\n",
       "  </thead>\n",
       "  <tbody>\n",
       "    <tr>\n",
       "      <th>0</th>\n",
       "      <td>489434</td>\n",
       "      <td>85048</td>\n",
       "      <td>15cm christmas glass ball 20 lights</td>\n",
       "      <td>12</td>\n",
       "      <td>2009-12-01 07:45:00</td>\n",
       "      <td>6.95</td>\n",
       "      <td>13085.0</td>\n",
       "      <td>United Kingdom</td>\n",
       "      <td>83.4</td>\n",
       "      <td>retail</td>\n",
       "      <td>2009-11-30</td>\n",
       "    </tr>\n",
       "    <tr>\n",
       "      <th>1</th>\n",
       "      <td>489434</td>\n",
       "      <td>79323P</td>\n",
       "      <td>pink cherry lights</td>\n",
       "      <td>12</td>\n",
       "      <td>2009-12-01 07:45:00</td>\n",
       "      <td>6.75</td>\n",
       "      <td>13085.0</td>\n",
       "      <td>United Kingdom</td>\n",
       "      <td>81.0</td>\n",
       "      <td>retail</td>\n",
       "      <td>2009-11-30</td>\n",
       "    </tr>\n",
       "    <tr>\n",
       "      <th>2</th>\n",
       "      <td>489434</td>\n",
       "      <td>79323W</td>\n",
       "      <td>white cherry lights</td>\n",
       "      <td>12</td>\n",
       "      <td>2009-12-01 07:45:00</td>\n",
       "      <td>6.75</td>\n",
       "      <td>13085.0</td>\n",
       "      <td>United Kingdom</td>\n",
       "      <td>81.0</td>\n",
       "      <td>retail</td>\n",
       "      <td>2009-11-30</td>\n",
       "    </tr>\n",
       "    <tr>\n",
       "      <th>3</th>\n",
       "      <td>489434</td>\n",
       "      <td>22041</td>\n",
       "      <td>record frame 7\" single size</td>\n",
       "      <td>48</td>\n",
       "      <td>2009-12-01 07:45:00</td>\n",
       "      <td>2.10</td>\n",
       "      <td>13085.0</td>\n",
       "      <td>United Kingdom</td>\n",
       "      <td>100.8</td>\n",
       "      <td>retail</td>\n",
       "      <td>2009-11-30</td>\n",
       "    </tr>\n",
       "    <tr>\n",
       "      <th>4</th>\n",
       "      <td>489434</td>\n",
       "      <td>21232</td>\n",
       "      <td>strawberry ceramic trinket box</td>\n",
       "      <td>24</td>\n",
       "      <td>2009-12-01 07:45:00</td>\n",
       "      <td>1.25</td>\n",
       "      <td>13085.0</td>\n",
       "      <td>United Kingdom</td>\n",
       "      <td>30.0</td>\n",
       "      <td>retail</td>\n",
       "      <td>2009-11-30</td>\n",
       "    </tr>\n",
       "  </tbody>\n",
       "</table>\n",
       "</div>"
      ],
      "text/plain": [
       "  Invoice StockCode                          Description  Quantity  \\\n",
       "0  489434     85048  15cm christmas glass ball 20 lights        12   \n",
       "1  489434    79323P                   pink cherry lights        12   \n",
       "2  489434    79323W                  white cherry lights        12   \n",
       "3  489434     22041          record frame 7\" single size        48   \n",
       "4  489434     21232       strawberry ceramic trinket box        24   \n",
       "\n",
       "          InvoiceDate  Price  Customer ID         Country  revenue order_type  \\\n",
       "0 2009-12-01 07:45:00   6.95      13085.0  United Kingdom     83.4     retail   \n",
       "1 2009-12-01 07:45:00   6.75      13085.0  United Kingdom     81.0     retail   \n",
       "2 2009-12-01 07:45:00   6.75      13085.0  United Kingdom     81.0     retail   \n",
       "3 2009-12-01 07:45:00   2.10      13085.0  United Kingdom    100.8     retail   \n",
       "4 2009-12-01 07:45:00   1.25      13085.0  United Kingdom     30.0     retail   \n",
       "\n",
       "        week  \n",
       "0 2009-11-30  \n",
       "1 2009-11-30  \n",
       "2 2009-11-30  \n",
       "3 2009-11-30  \n",
       "4 2009-11-30  "
      ]
     },
     "metadata": {},
     "output_type": "display_data"
    }
   ],
   "source": [
    "display(df.head())"
   ]
  },
  {
   "cell_type": "markdown",
   "id": "0c933c47-0baa-4cd7-9130-b6a9c2c2b10e",
   "metadata": {},
   "source": [
    " ## Handling Outlier"
   ]
  },
  {
   "cell_type": "code",
   "execution_count": 18,
   "id": "d55ab603-7c6e-4041-815c-6939ac9d2f9f",
   "metadata": {},
   "outputs": [],
   "source": [
    "# Winsorize (clip) total_quantity and avg_price to reasonable percentiles\n",
    "def handle_outliers(df, qty_col='total_quantity', price_col='avg_price', qty_pct=0.995, price_pct=0.995):\n",
    "    q_max = df[qty_col].quantile(qty_pct)\n",
    "    q_min = df[qty_col].quantile(1 - qty_pct) if df[qty_col].min() < 0 else 0\n",
    "    p_max = df[price_col].quantile(price_pct)\n",
    "    p_min = df[price_col].quantile(1 - price_pct)\n",
    "    df[qty_col] = df[qty_col].clip(lower=q_min, upper=q_max)\n",
    "    df[price_col] = df[price_col].clip(lower=p_min, upper=p_max)\n",
    "    return df\n",
    "\n",
    "# Apply to aggregated data before feature creation\n",
    "agg = handle_outliers(agg, qty_pct=0.995, price_pct=0.995)\n"
   ]
  },
  {
   "cell_type": "markdown",
   "id": "2e67c37a-1c70-492f-9890-0db3f39e9951",
   "metadata": {},
   "source": [
    "# Keep SKUs with at least 8 weeks of history"
   ]
  },
  {
   "cell_type": "code",
   "execution_count": 19,
   "id": "0be815e5-ea1f-43f0-b3e8-5420920c8da6",
   "metadata": {},
   "outputs": [],
   "source": [
    "MIN_WEEKS = 8\n",
    "sku_counts = agg['StockCode'].value_counts()\n",
    "valid_skus = sku_counts[sku_counts >= MIN_WEEKS].index\n",
    "agg = agg[agg['StockCode'].isin(valid_skus)].copy()"
   ]
  },
  {
   "cell_type": "code",
   "execution_count": 20,
   "id": "d00987a4-909a-4f85-8c1c-900553548b76",
   "metadata": {},
   "outputs": [
    {
     "name": "stdout",
     "output_type": "stream",
     "text": [
      "Aggregated shape after filtering SKUs: (85201, 6)\n"
     ]
    },
    {
     "data": {
      "text/html": [
       "<div>\n",
       "<style scoped>\n",
       "    .dataframe tbody tr th:only-of-type {\n",
       "        vertical-align: middle;\n",
       "    }\n",
       "\n",
       "    .dataframe tbody tr th {\n",
       "        vertical-align: top;\n",
       "    }\n",
       "\n",
       "    .dataframe thead th {\n",
       "        text-align: right;\n",
       "    }\n",
       "</style>\n",
       "<table border=\"1\" class=\"dataframe\">\n",
       "  <thead>\n",
       "    <tr style=\"text-align: right;\">\n",
       "      <th></th>\n",
       "      <th>StockCode</th>\n",
       "      <th>week</th>\n",
       "      <th>avg_price</th>\n",
       "      <th>total_quantity</th>\n",
       "      <th>total_revenue</th>\n",
       "      <th>n_transactions</th>\n",
       "    </tr>\n",
       "  </thead>\n",
       "  <tbody>\n",
       "    <tr>\n",
       "      <th>0</th>\n",
       "      <td>10002</td>\n",
       "      <td>2009-11-30</td>\n",
       "      <td>0.85</td>\n",
       "      <td>140.0</td>\n",
       "      <td>119.00</td>\n",
       "      <td>10</td>\n",
       "    </tr>\n",
       "    <tr>\n",
       "      <th>1</th>\n",
       "      <td>10002</td>\n",
       "      <td>2009-12-07</td>\n",
       "      <td>0.85</td>\n",
       "      <td>23.0</td>\n",
       "      <td>19.55</td>\n",
       "      <td>3</td>\n",
       "    </tr>\n",
       "    <tr>\n",
       "      <th>2</th>\n",
       "      <td>10002</td>\n",
       "      <td>2009-12-14</td>\n",
       "      <td>0.85</td>\n",
       "      <td>36.0</td>\n",
       "      <td>30.60</td>\n",
       "      <td>2</td>\n",
       "    </tr>\n",
       "    <tr>\n",
       "      <th>3</th>\n",
       "      <td>10002</td>\n",
       "      <td>2009-12-21</td>\n",
       "      <td>0.85</td>\n",
       "      <td>13.0</td>\n",
       "      <td>11.05</td>\n",
       "      <td>2</td>\n",
       "    </tr>\n",
       "    <tr>\n",
       "      <th>4</th>\n",
       "      <td>10002</td>\n",
       "      <td>2010-01-04</td>\n",
       "      <td>0.85</td>\n",
       "      <td>15.0</td>\n",
       "      <td>12.75</td>\n",
       "      <td>2</td>\n",
       "    </tr>\n",
       "    <tr>\n",
       "      <th>5</th>\n",
       "      <td>10002</td>\n",
       "      <td>2010-01-11</td>\n",
       "      <td>0.85</td>\n",
       "      <td>191.0</td>\n",
       "      <td>162.35</td>\n",
       "      <td>4</td>\n",
       "    </tr>\n",
       "    <tr>\n",
       "      <th>6</th>\n",
       "      <td>10002</td>\n",
       "      <td>2010-01-18</td>\n",
       "      <td>0.85</td>\n",
       "      <td>40.0</td>\n",
       "      <td>34.00</td>\n",
       "      <td>4</td>\n",
       "    </tr>\n",
       "    <tr>\n",
       "      <th>7</th>\n",
       "      <td>10002</td>\n",
       "      <td>2010-01-25</td>\n",
       "      <td>0.85</td>\n",
       "      <td>43.0</td>\n",
       "      <td>36.55</td>\n",
       "      <td>5</td>\n",
       "    </tr>\n",
       "    <tr>\n",
       "      <th>8</th>\n",
       "      <td>10002</td>\n",
       "      <td>2010-02-01</td>\n",
       "      <td>0.85</td>\n",
       "      <td>15.0</td>\n",
       "      <td>12.75</td>\n",
       "      <td>2</td>\n",
       "    </tr>\n",
       "    <tr>\n",
       "      <th>9</th>\n",
       "      <td>10002</td>\n",
       "      <td>2010-02-08</td>\n",
       "      <td>0.85</td>\n",
       "      <td>43.0</td>\n",
       "      <td>36.55</td>\n",
       "      <td>3</td>\n",
       "    </tr>\n",
       "  </tbody>\n",
       "</table>\n",
       "</div>"
      ],
      "text/plain": [
       "  StockCode       week  avg_price  total_quantity  total_revenue  \\\n",
       "0     10002 2009-11-30       0.85           140.0         119.00   \n",
       "1     10002 2009-12-07       0.85            23.0          19.55   \n",
       "2     10002 2009-12-14       0.85            36.0          30.60   \n",
       "3     10002 2009-12-21       0.85            13.0          11.05   \n",
       "4     10002 2010-01-04       0.85            15.0          12.75   \n",
       "5     10002 2010-01-11       0.85           191.0         162.35   \n",
       "6     10002 2010-01-18       0.85            40.0          34.00   \n",
       "7     10002 2010-01-25       0.85            43.0          36.55   \n",
       "8     10002 2010-02-01       0.85            15.0          12.75   \n",
       "9     10002 2010-02-08       0.85            43.0          36.55   \n",
       "\n",
       "   n_transactions  \n",
       "0              10  \n",
       "1               3  \n",
       "2               2  \n",
       "3               2  \n",
       "4               2  \n",
       "5               4  \n",
       "6               4  \n",
       "7               5  \n",
       "8               2  \n",
       "9               3  "
      ]
     },
     "metadata": {},
     "output_type": "display_data"
    }
   ],
   "source": [
    "print(\"Aggregated shape after filtering SKUs:\", agg.shape)\n",
    "display(agg.head(10))\n",
    "agg.to_csv(\"data/aggregated_weekly.csv\", index=False)"
   ]
  },
  {
   "cell_type": "markdown",
   "id": "72b6bd5c-c587-432a-a91e-803e11d34d3e",
   "metadata": {},
   "source": [
    " # FEATURE ENGINEERING\n",
    " Create additional columns to help the model:\n",
    "1. Time-based features: month, week_of_year, December flag, weekend flag\n",
    "2. Simulated competitor price & price_diff/ratio\n",
    "3. Lag features: previous weeks' quantity and price\n",
    "4. Rolling mean features\n",
    "5. Target transformation: log1p(total_quantity)\n",
    "6. SKU clustering for categorical feature\n",
    "7. Business Features"
   ]
  },
  {
   "cell_type": "code",
   "execution_count": 21,
   "id": "16924872-e27d-4c19-8db9-dd651d144cc2",
   "metadata": {},
   "outputs": [],
   "source": [
    "# Time features\n",
    "agg['month'] = agg['week'].dt.month\n",
    "agg['week_of_year'] = agg['week'].dt.isocalendar().week\n",
    "agg['is_december'] = (agg['month'] == 12).astype(int)\n",
    "agg['is_weekend_period'] = (agg['week'].dt.weekday >= 5).astype(int)"
   ]
  },
  {
   "cell_type": "code",
   "execution_count": 22,
   "id": "1d2cc6ce-a7cd-49a6-a2c5-9fb1dea18d60",
   "metadata": {},
   "outputs": [],
   "source": [
    "#  Simulated Competitor Data \n",
    "comp_df = pd.read_csv(\"competitor_price.csv\", parse_dates=[\"week\"])\n",
    "\n",
    "# Merge competitor prices into agg (by StockCode + week)\n",
    "agg = agg.merge(comp_df[['StockCode','week','competitor_price']], \n",
    "                on=['StockCode','week'], how='left')\n",
    "\n",
    "# If competitor price missing (not found in CSV), fallback to avg_price\n",
    "agg['competitor_price'] = agg['competitor_price'].fillna(agg['avg_price'])\n",
    "\n",
    "# Create features\n",
    "agg['price_diff'] = agg['avg_price'] - agg['competitor_price']\n",
    "agg['price_ratio'] = agg['avg_price'] / (agg['competitor_price'] + 1e-9)\n"
   ]
  },
  {
   "cell_type": "code",
   "execution_count": 23,
   "id": "6170588f-aa2d-4221-9b56-61f3d0032435",
   "metadata": {},
   "outputs": [
    {
     "name": "stdout",
     "output_type": "stream",
     "text": [
      "Index(['StockCode', 'week', 'our_price', 'competitor_price'], dtype='object')\n"
     ]
    }
   ],
   "source": [
    "print(comp_df.columns)\n"
   ]
  },
  {
   "cell_type": "code",
   "execution_count": 24,
   "id": "6d7f071b-3499-4344-b070-b7f10f5b3e89",
   "metadata": {},
   "outputs": [],
   "source": [
    "# Lag & rolling features\n",
    "agg = agg.sort_values(['StockCode','week']).reset_index(drop=True)\n",
    "agg['qty_lag_1'] = agg.groupby('StockCode')['total_quantity'].shift(1)\n",
    "agg['qty_lag_2'] = agg.groupby('StockCode')['total_quantity'].shift(2)\n",
    "agg['price_lag_1'] = agg.groupby('StockCode')['avg_price'].shift(1)\n",
    "agg['qty_roll_3'] = agg.groupby('StockCode')['total_quantity'].shift(1).rolling(3).mean().reset_index(level=0, drop=True)"
   ]
  },
  {
   "cell_type": "code",
   "execution_count": 25,
   "id": "94fef458-ee79-4129-8394-21cd3b9c6e23",
   "metadata": {},
   "outputs": [],
   "source": [
    "# Drop rows with NaNs in critical lag features\n",
    "agg_feat = agg.dropna(subset=['qty_lag_1','qty_roll_3']).copy()"
   ]
  },
  {
   "cell_type": "code",
   "execution_count": 26,
   "id": "2d8e3838-2861-48af-9e48-6063b42f53e5",
   "metadata": {},
   "outputs": [],
   "source": [
    "# Transform target\n",
    "agg_feat['y_qty_log1p'] = np.log1p(agg_feat['total_quantity'])"
   ]
  },
  {
   "cell_type": "code",
   "execution_count": 27,
   "id": "b8917bce-1092-4cdb-a1f8-5e6bece10db4",
   "metadata": {},
   "outputs": [
    {
     "data": {
      "text/html": [
       "<div>\n",
       "<style scoped>\n",
       "    .dataframe tbody tr th:only-of-type {\n",
       "        vertical-align: middle;\n",
       "    }\n",
       "\n",
       "    .dataframe tbody tr th {\n",
       "        vertical-align: top;\n",
       "    }\n",
       "\n",
       "    .dataframe thead th {\n",
       "        text-align: right;\n",
       "    }\n",
       "</style>\n",
       "<table border=\"1\" class=\"dataframe\">\n",
       "  <thead>\n",
       "    <tr style=\"text-align: right;\">\n",
       "      <th></th>\n",
       "      <th>StockCode</th>\n",
       "      <th>week</th>\n",
       "      <th>avg_price</th>\n",
       "      <th>total_quantity</th>\n",
       "      <th>total_revenue</th>\n",
       "      <th>n_transactions</th>\n",
       "      <th>month</th>\n",
       "      <th>week_of_year</th>\n",
       "      <th>is_december</th>\n",
       "      <th>is_weekend_period</th>\n",
       "      <th>competitor_price</th>\n",
       "      <th>price_diff</th>\n",
       "      <th>price_ratio</th>\n",
       "      <th>qty_lag_1</th>\n",
       "      <th>qty_lag_2</th>\n",
       "      <th>price_lag_1</th>\n",
       "      <th>qty_roll_3</th>\n",
       "      <th>y_qty_log1p</th>\n",
       "      <th>sku_cluster</th>\n",
       "    </tr>\n",
       "  </thead>\n",
       "  <tbody>\n",
       "    <tr>\n",
       "      <th>0</th>\n",
       "      <td>10002</td>\n",
       "      <td>2009-12-21</td>\n",
       "      <td>0.85</td>\n",
       "      <td>13.0</td>\n",
       "      <td>11.05</td>\n",
       "      <td>2</td>\n",
       "      <td>12</td>\n",
       "      <td>52</td>\n",
       "      <td>1</td>\n",
       "      <td>0</td>\n",
       "      <td>0.85</td>\n",
       "      <td>0.0</td>\n",
       "      <td>1.0</td>\n",
       "      <td>36.0</td>\n",
       "      <td>23.0</td>\n",
       "      <td>0.85</td>\n",
       "      <td>66.333333</td>\n",
       "      <td>2.639057</td>\n",
       "      <td>4</td>\n",
       "    </tr>\n",
       "    <tr>\n",
       "      <th>1</th>\n",
       "      <td>10002</td>\n",
       "      <td>2010-01-04</td>\n",
       "      <td>0.85</td>\n",
       "      <td>15.0</td>\n",
       "      <td>12.75</td>\n",
       "      <td>2</td>\n",
       "      <td>1</td>\n",
       "      <td>1</td>\n",
       "      <td>0</td>\n",
       "      <td>0</td>\n",
       "      <td>0.85</td>\n",
       "      <td>0.0</td>\n",
       "      <td>1.0</td>\n",
       "      <td>13.0</td>\n",
       "      <td>36.0</td>\n",
       "      <td>0.85</td>\n",
       "      <td>24.000000</td>\n",
       "      <td>2.772589</td>\n",
       "      <td>4</td>\n",
       "    </tr>\n",
       "    <tr>\n",
       "      <th>2</th>\n",
       "      <td>10002</td>\n",
       "      <td>2010-01-11</td>\n",
       "      <td>0.85</td>\n",
       "      <td>191.0</td>\n",
       "      <td>162.35</td>\n",
       "      <td>4</td>\n",
       "      <td>1</td>\n",
       "      <td>2</td>\n",
       "      <td>0</td>\n",
       "      <td>0</td>\n",
       "      <td>0.85</td>\n",
       "      <td>0.0</td>\n",
       "      <td>1.0</td>\n",
       "      <td>15.0</td>\n",
       "      <td>13.0</td>\n",
       "      <td>0.85</td>\n",
       "      <td>21.333333</td>\n",
       "      <td>5.257495</td>\n",
       "      <td>4</td>\n",
       "    </tr>\n",
       "    <tr>\n",
       "      <th>3</th>\n",
       "      <td>10002</td>\n",
       "      <td>2010-01-18</td>\n",
       "      <td>0.85</td>\n",
       "      <td>40.0</td>\n",
       "      <td>34.00</td>\n",
       "      <td>4</td>\n",
       "      <td>1</td>\n",
       "      <td>3</td>\n",
       "      <td>0</td>\n",
       "      <td>0</td>\n",
       "      <td>0.85</td>\n",
       "      <td>0.0</td>\n",
       "      <td>1.0</td>\n",
       "      <td>191.0</td>\n",
       "      <td>15.0</td>\n",
       "      <td>0.85</td>\n",
       "      <td>73.000000</td>\n",
       "      <td>3.713572</td>\n",
       "      <td>4</td>\n",
       "    </tr>\n",
       "    <tr>\n",
       "      <th>4</th>\n",
       "      <td>10002</td>\n",
       "      <td>2010-01-25</td>\n",
       "      <td>0.85</td>\n",
       "      <td>43.0</td>\n",
       "      <td>36.55</td>\n",
       "      <td>5</td>\n",
       "      <td>1</td>\n",
       "      <td>4</td>\n",
       "      <td>0</td>\n",
       "      <td>0</td>\n",
       "      <td>0.85</td>\n",
       "      <td>0.0</td>\n",
       "      <td>1.0</td>\n",
       "      <td>40.0</td>\n",
       "      <td>191.0</td>\n",
       "      <td>0.85</td>\n",
       "      <td>82.000000</td>\n",
       "      <td>3.784190</td>\n",
       "      <td>4</td>\n",
       "    </tr>\n",
       "  </tbody>\n",
       "</table>\n",
       "</div>"
      ],
      "text/plain": [
       "  StockCode       week  avg_price  total_quantity  total_revenue  \\\n",
       "0     10002 2009-12-21       0.85            13.0          11.05   \n",
       "1     10002 2010-01-04       0.85            15.0          12.75   \n",
       "2     10002 2010-01-11       0.85           191.0         162.35   \n",
       "3     10002 2010-01-18       0.85            40.0          34.00   \n",
       "4     10002 2010-01-25       0.85            43.0          36.55   \n",
       "\n",
       "   n_transactions  month  week_of_year  is_december  is_weekend_period  \\\n",
       "0               2     12            52            1                  0   \n",
       "1               2      1             1            0                  0   \n",
       "2               4      1             2            0                  0   \n",
       "3               4      1             3            0                  0   \n",
       "4               5      1             4            0                  0   \n",
       "\n",
       "   competitor_price  price_diff  price_ratio  qty_lag_1  qty_lag_2  \\\n",
       "0              0.85         0.0          1.0       36.0       23.0   \n",
       "1              0.85         0.0          1.0       13.0       36.0   \n",
       "2              0.85         0.0          1.0       15.0       13.0   \n",
       "3              0.85         0.0          1.0      191.0       15.0   \n",
       "4              0.85         0.0          1.0       40.0      191.0   \n",
       "\n",
       "   price_lag_1  qty_roll_3  y_qty_log1p  sku_cluster  \n",
       "0         0.85   66.333333     2.639057            4  \n",
       "1         0.85   24.000000     2.772589            4  \n",
       "2         0.85   21.333333     5.257495            4  \n",
       "3         0.85   73.000000     3.713572            4  \n",
       "4         0.85   82.000000     3.784190            4  "
      ]
     },
     "metadata": {},
     "output_type": "display_data"
    }
   ],
   "source": [
    "sku_meta = agg_feat.groupby('StockCode').agg(\n",
    "    avg_price_global=('avg_price','mean'),\n",
    "    total_revenue_global=('total_revenue','sum')\n",
    ").reset_index()\n",
    "N_CLUSTERS = 8\n",
    "kmeans = KMeans(n_clusters=N_CLUSTERS, random_state=42)\n",
    "sku_meta['sku_cluster'] = kmeans.fit_predict(sku_meta[['avg_price_global','total_revenue_global']])\n",
    "agg_feat = agg_feat.merge(sku_meta[['StockCode','sku_cluster']], on='StockCode', how='left')\n",
    "\n",
    "agg_feat.to_csv(\"data/model_features.csv\", index=False)\n",
    "display(agg_feat.head())"
   ]
  },
  {
   "cell_type": "markdown",
   "id": "9fc98392-84c6-4088-a067-dafa4dccb363",
   "metadata": {},
   "source": [
    "BUSINESS FEATURES"
   ]
  },
  {
   "cell_type": "code",
   "execution_count": 28,
   "id": "dd9f7ba3-bdef-4e9e-b9d2-cdf39acb6f76",
   "metadata": {},
   "outputs": [],
   "source": [
    "india_holidays = [\n",
    "    pd.Timestamp('2010-11-05'),  # Diwali 2010\n",
    "    pd.Timestamp('2011-10-26'),  # Diwali 2011\n",
    "    pd.Timestamp('2010-03-01'),  # Holi 2010\n",
    "    pd.Timestamp('2011-03-20'),  # Holi 2011\n",
    "    pd.Timestamp('2010-08-15'),  # Independence Day\n",
    "    pd.Timestamp('2011-08-15')\n",
    "]\n",
    "\n",
    "agg_feat['is_holiday'] = agg_feat['week'].isin(india_holidays).astype(int)\n",
    "agg_feat['is_promo'] = 0  # placeholder, later can be linked with marketing campaigns\n",
    "agg_feat['cost_est'] = agg_feat['avg_price'] * 0.6  # assume 40% margin"
   ]
  },
  {
   "cell_type": "markdown",
   "id": "343b24c5-7295-44ff-bc7c-2990f51aaab0",
   "metadata": {},
   "source": [
    "# TRAIN / TEST SPLIT\n",
    "\n",
    "Use earliest 75% of weeks as training data, latest 25% as test\n",
    "\n",
    "1.Features: avg_price, price_diff, price_ratio, lags, rolling mean, time features, SKU cluster\n",
    "\n",
    "2.One-hot encode categorical features"
   ]
  },
  {
   "cell_type": "code",
   "execution_count": 29,
   "id": "e791732d-9bc6-481d-aab8-4430dff3bb16",
   "metadata": {},
   "outputs": [],
   "source": [
    "weeks_sorted = sorted(agg_feat['week'].unique())\n",
    "cutoff_index = int(len(weeks_sorted) * 0.75)\n",
    "cutoff_week = weeks_sorted[cutoff_index]\n",
    "\n",
    "train = agg_feat[agg_feat['week'] <= cutoff_week].copy()\n",
    "test  = agg_feat[agg_feat['week'] > cutoff_week].copy()\n",
    "\n",
    "BASE_FEATURES = [\n",
    "    'avg_price',          # our price\n",
    "    'competitor_price',   # competitor price (from CSV/API)\n",
    "    'price_diff',         # our price - competitor price\n",
    "    'price_ratio',        # ratio between our vs competitor\n",
    "    'qty_lag_1',          # last week's sales\n",
    "    'qty_roll_3',         # rolling average of last 3 weeks\n",
    "    'price_lag_1',        # last week's price\n",
    "    'month',              # seasonal/monthly effects\n",
    "    'is_december',        # December spike\n",
    "    'is_weekend_period',  # weekend effect\n",
    "    'sku_cluster',        # product grouping\n",
    "    'is_holiday',         # Indian holiday flag\n",
    "    'is_promo',           # promo flag (future marketing integration)\n",
    "    'cost_est'            # estimated cost → for profit optimization\n",
    "]"
   ]
  },
  {
   "cell_type": "code",
   "execution_count": 30,
   "id": "b2ee3da0-4234-4ce3-9da9-9fb021bf34d1",
   "metadata": {},
   "outputs": [
    {
     "name": "stdout",
     "output_type": "stream",
     "text": [
      "Feature vector shape: (54321, 28)\n"
     ]
    }
   ],
   "source": [
    "X_train = pd.get_dummies(train[BASE_FEATURES].copy(), columns=['month','sku_cluster'], drop_first=True)\n",
    "X_test  = pd.get_dummies(test[BASE_FEATURES].copy(), columns=['month','sku_cluster'], drop_first=True)\n",
    "X_test = X_test.reindex(columns=X_train.columns, fill_value=0)\n",
    "\n",
    "y_train = train['y_qty_log1p']\n",
    "y_test  = test['y_qty_log1p']\n",
    "\n",
    "print(\"Feature vector shape:\", X_train.shape)\n"
   ]
  },
  {
   "cell_type": "markdown",
   "id": "462fdc92-e8c8-443d-a11d-ee41ad37a74b",
   "metadata": {},
   "source": [
    "# BASELINE & XGBOOST TRAINING\n",
    "\n",
    " Baseline: predict last-week quantity (qty_lag_1)\n",
    " \n",
    "1.XGBoost: train a smart model on log1p(quantity)\n",
    "\n",
    "2.Compare metrics to see if XGBoost beats baseline"
   ]
  },
  {
   "cell_type": "code",
   "execution_count": 31,
   "id": "a39968d1-47d8-4685-a03a-87e40e301df2",
   "metadata": {},
   "outputs": [],
   "source": [
    "baseline_pred_log = np.log1p(test['qty_lag_1'].fillna(0))\n"
   ]
  },
  {
   "cell_type": "code",
   "execution_count": 32,
   "id": "91541005-4806-4585-b75b-43ce832df5ea",
   "metadata": {},
   "outputs": [],
   "source": [
    "def eval_preds_log(y_true_log, y_pred_log):\n",
    "    y_true = np.expm1(y_true_log)\n",
    "    y_pred = np.expm1(y_pred_log)\n",
    "    return {\n",
    "        'RMSE': np.sqrt(mean_squared_error(y_true, y_pred)),\n",
    "        'MAE': mean_absolute_error(y_true, y_pred),\n",
    "        'R2_log': r2_score(y_true_log, y_pred_log)\n",
    "    }"
   ]
  },
  {
   "cell_type": "code",
   "execution_count": 33,
   "id": "23684f23-b393-4f53-ae22-2b8550f0ba68",
   "metadata": {},
   "outputs": [
    {
     "name": "stdout",
     "output_type": "stream",
     "text": [
      "Baseline metrics (last-week baseline): {'RMSE': np.float64(116.42839483839968), 'MAE': 51.33457927613445, 'R2_log': 0.37555563781696744}\n"
     ]
    }
   ],
   "source": [
    "print(\"Baseline metrics (last-week baseline):\", eval_preds_log(y_test, baseline_pred_log))"
   ]
  },
  {
   "cell_type": "code",
   "execution_count": 34,
   "id": "aa4ac956-a14f-434d-8a66-07d91d0058c8",
   "metadata": {},
   "outputs": [
    {
     "name": "stdout",
     "output_type": "stream",
     "text": [
      "Test RMSE: 91.81181631083851\n",
      "Test MAE : 38.2098298256655\n",
      "Test R2  : 0.5023046549701397\n"
     ]
    }
   ],
   "source": [
    "# Train/Test DMatrix\n",
    "dtrain, dtest = xgb.DMatrix(X_train, label=y_train), xgb.DMatrix(X_test, label=y_test)\n",
    "\n",
    "params = {'objective':'reg:squarederror','max_depth':6,'eta':0.05,'seed':42}\n",
    "\n",
    "xgb_model = xgb.train(params, dtrain, num_boost_round=200,\n",
    "                      evals=[(dtest,\"test\")], early_stopping_rounds=20, verbose_eval=False)\n",
    "\n",
    "# Predictions\n",
    "y_pred = np.expm1(xgb_model.predict(dtest))\n",
    "y_true = np.expm1(y_test)\n",
    "\n",
    "print(\"Test RMSE:\", np.sqrt(mean_squared_error(y_true, y_pred)))\n",
    "print(\"Test MAE :\", mean_absolute_error(y_true, y_pred))\n",
    "print(\"Test R2  :\", r2_score(y_true, y_pred))\n",
    "\n",
    "feature_columns = X_train.columns.tolist()\n"
   ]
  },
  {
   "cell_type": "code",
   "execution_count": 35,
   "id": "6f65c1d2-b85c-4773-9570-4d7818f7e249",
   "metadata": {},
   "outputs": [],
   "source": [
    "# Predictions on test set\n",
    "y_pred_xgb_log = xgb_model.predict(dtest)\n"
   ]
  },
  {
   "cell_type": "code",
   "execution_count": 36,
   "id": "687c76ee-30a9-4681-9548-2470b9c0ebe8",
   "metadata": {},
   "outputs": [
    {
     "name": "stdout",
     "output_type": "stream",
     "text": [
      "XGBoost metrics: {'RMSE': np.float64(91.81181631083851), 'MAE': 38.2098298256655, 'R2_log': 0.6568127337861048}\n"
     ]
    }
   ],
   "source": [
    "print(\"XGBoost metrics:\", eval_preds_log(y_test, y_pred_xgb_log))"
   ]
  },
  {
   "cell_type": "markdown",
   "id": "ac0bf399-da87-451e-ab0f-14c4f570c25f",
   "metadata": {},
   "source": [
    "# Save model (Booster)"
   ]
  },
  {
   "cell_type": "code",
   "execution_count": 37,
   "id": "ab8af849-2845-4aaf-a073-c0e5905b60d0",
   "metadata": {},
   "outputs": [],
   "source": [
    "os.makedirs(\"models\", exist_ok=True)"
   ]
  },
  {
   "cell_type": "code",
   "execution_count": 38,
   "id": "d64287be-2ae5-4e9d-9238-fd35b2a3d8cb",
   "metadata": {},
   "outputs": [
    {
     "name": "stdout",
     "output_type": "stream",
     "text": [
      "Saved Booster model to models/xgb_qty_model.json\n"
     ]
    }
   ],
   "source": [
    "# xgb_model is a Booster returned by xgb.train(...)\n",
    "xgb_model.save_model(\"models/xgb_qty_model.json\")\n",
    "print(\"Saved Booster model to models/xgb_qty_model.json\")"
   ]
  },
  {
   "cell_type": "code",
   "execution_count": 39,
   "id": "d14b74b6-86b0-4112-9778-77da5eaff8ff",
   "metadata": {},
   "outputs": [],
   "source": [
    "# Keep feature_columns as before (for constructing candidate X)\n",
    "feature_columns = X_train.columns.tolist()"
   ]
  },
  {
   "cell_type": "markdown",
   "id": "066ccade-a36c-4304-bea5-5bc37cac80d8",
   "metadata": {},
   "source": [
    "# PRICE RECOMMENDATION FUNCTION (Booster compatible)\n",
    "\n",
    "Recommend a price by creating a grid around current price, predicting quantity\n",
    "using the trained xgboost Booster, and returning the price that maximizes revenue.\n",
    "\n",
    "Parameters:\n",
    "- model: xgboost.Booster\n",
    "- base_row: pandas Series (one row from agg_feat containing BASE_FEATURES + other fields)\n",
    "- feature_columns: list of column names used to train the model (X_train.columns)\n",
    "- competitor_price: optional numeric to override competitor feature\n",
    "- clamp_pct: maximum percentage change from current price to consider (e.g., 0.30)\n",
    "- price_grid_count: how many candidate prices to evaluate\n",
    "- transform_log: True if model predicts log1p(quantity)"
   ]
  },
  {
   "cell_type": "code",
   "execution_count": 40,
   "id": "bba305c7-e936-4386-82a5-26ceda538767",
   "metadata": {},
   "outputs": [],
   "source": [
    "def recommend_price_grid_profit(\n",
    "    booster, base_row, feature_columns, competitor_price=None,\n",
    "    clamp_pct=0.30, price_grid_count=10, transform_log=True\n",
    "):\n",
    "    \"\"\"\n",
    "    Optimized version: Recommend price that maximizes PROFIT.\n",
    "    Runs predictions in batch for speed.\n",
    "    \"\"\"\n",
    "\n",
    "    current_price = float(base_row['avg_price'])\n",
    "    cost = float(base_row['cost_est'])\n",
    "\n",
    "    # Price grid\n",
    "    low, high = current_price * (1 - clamp_pct), current_price * (1 + clamp_pct)\n",
    "    price_grid = np.linspace(low, high, price_grid_count)\n",
    "\n",
    "    # Build candidate rows for all price points\n",
    "    rows = []\n",
    "    for p in price_grid:\n",
    "        row = base_row.copy()\n",
    "        row['avg_price'] = p\n",
    "        if competitor_price is not None:\n",
    "            row['competitor_price'] = competitor_price\n",
    "        row['price_diff'] = row['avg_price'] - row['competitor_price']\n",
    "        row['price_ratio'] = row['avg_price'] / (row['competitor_price'] + 1e-9)\n",
    "        rows.append(row[BASE_FEATURES])\n",
    "\n",
    "    # Convert to DataFrame\n",
    "    Xcand = pd.DataFrame(rows)\n",
    "    Xcand = pd.get_dummies(Xcand, columns=['month','sku_cluster'], drop_first=True)\n",
    "    Xcand = Xcand.reindex(columns=feature_columns, fill_value=0)\n",
    "\n",
    "    # Batch predict\n",
    "    preds_log = booster.predict(xgb.DMatrix(Xcand))\n",
    "    preds_qty = np.expm1(preds_log) if transform_log else preds_log\n",
    "\n",
    "    # Compute revenues and profits for all candidates\n",
    "    revenues = price_grid * preds_qty\n",
    "    profits = (price_grid - cost) * preds_qty\n",
    "\n",
    "    # Find best index\n",
    "    best_idx = np.argmax(profits)\n",
    "\n",
    "    return {\n",
    "        'price': price_grid[best_idx],\n",
    "        'predicted_profit': profits[best_idx],\n",
    "        'predicted_revenue': revenues[best_idx],\n",
    "        'predicted_qty': preds_qty[best_idx]\n",
    "    }\n"
   ]
  },
  {
   "cell_type": "markdown",
   "id": "70f09b42-ccc8-47a2-9261-ad57f84ef511",
   "metadata": {},
   "source": [
    "# Business KPI Summary Function"
   ]
  },
  {
   "cell_type": "code",
   "execution_count": 41,
   "id": "f418089b-cb1b-4e53-80f8-52c001cb5b13",
   "metadata": {},
   "outputs": [],
   "source": [
    "def evaluate_business_kpis(df, booster, feature_columns, clamp_pct=0.30):\n",
    "    \"\"\"\n",
    "    Evaluate business KPIs for price recommendations.\n",
    "    Runs recommendations on a sample of SKUs and compares vs actuals.\n",
    "    \"\"\"\n",
    "\n",
    "    records = []\n",
    "    for _, row in df.iterrows():\n",
    "        base_row = row.copy()\n",
    "        rec = recommend_price_grid_profit(\n",
    "            booster, base_row, feature_columns,\n",
    "            competitor_price=base_row['competitor_price'],\n",
    "            clamp_pct=clamp_pct\n",
    "        )\n",
    "        records.append({\n",
    "            'StockCode': row['StockCode'],\n",
    "            'week': row['week'],\n",
    "            'actual_price': row['avg_price'],\n",
    "            'actual_qty': row['total_quantity'],\n",
    "            'actual_revenue': row['total_revenue'],\n",
    "            'actual_profit': (row['avg_price'] - row['cost_est']) * row['total_quantity'],\n",
    "            'rec_price': rec['price'],\n",
    "            'rec_pred_qty': rec['predicted_qty'],\n",
    "            'rec_pred_revenue': rec['predicted_revenue'],\n",
    "            'rec_pred_profit': rec['predicted_profit']\n",
    "        })\n",
    "\n",
    "    bt = pd.DataFrame(records)\n",
    "\n",
    "    # Compute KPI metrics\n",
    "    bt['profit_uplift_pct'] = (bt['rec_pred_profit'] / (bt['actual_profit']+1e-9) - 1) * 100\n",
    "    bt['revenue_uplift_pct'] = (bt['rec_pred_revenue'] / (bt['actual_revenue']+1e-9) - 1) * 100\n",
    "    bt['price_change_pct'] = (bt['rec_price'] / bt['actual_price'] - 1) * 100\n",
    "\n",
    "    kpis = {\n",
    "        \"Median Profit Uplift %\": bt['profit_uplift_pct'].median(),\n",
    "        \"Median Revenue Uplift %\": bt['revenue_uplift_pct'].median(),\n",
    "        \"Safe Recommendations % (±30%)\": (bt['price_change_pct'].abs() <= 30).mean()*100,\n",
    "        \"Coverage % (SKUs with recs)\": bt['StockCode'].nunique() / df['StockCode'].nunique() * 100\n",
    "    }\n",
    "       \n",
    "\n",
    "    return kpis, bt\n",
    "\n"
   ]
  },
  {
   "cell_type": "markdown",
   "id": "a6ef0270-cbec-41c2-a37e-4cbd7e36beb4",
   "metadata": {},
   "source": [
    " # PROFIT KPI SUMMARY FUNCTION"
   ]
  },
  {
   "cell_type": "code",
   "execution_count": 55,
   "id": "a3016664-3de8-4a59-a149-2d8f0ff758a6",
   "metadata": {},
   "outputs": [],
   "source": [
    "def evaluate_business_kpis_profit(df, booster, feature_columns, clamp_pct=0.30):\n",
    "    \"\"\"\n",
    "    Evaluate business KPIs for price recommendations.\n",
    "    Focuses on PROFIT uplift as the main metric.\n",
    "    \"\"\"\n",
    "\n",
    "    records = []\n",
    "    for _, row in df.iterrows():\n",
    "        base_row = row.copy()\n",
    "        rec = recommend_price_grid_profit(\n",
    "            booster, base_row, feature_columns,\n",
    "            competitor_price=base_row['competitor_price'],\n",
    "            clamp_pct=clamp_pct\n",
    "        )\n",
    "        records.append({\n",
    "            'StockCode': row['StockCode'],\n",
    "            'week': row['week'],\n",
    "            'actual_price': row['avg_price'],\n",
    "            'actual_qty': row['total_quantity'],\n",
    "            'actual_revenue': row['total_revenue'],\n",
    "            'actual_profit': (row['avg_price'] - row['cost_est']) * row['total_quantity'],\n",
    "            'rec_price': rec['price'],\n",
    "            'rec_pred_qty': rec['predicted_qty'],\n",
    "            'rec_pred_revenue': rec['predicted_revenue'],\n",
    "            'rec_pred_profit': rec['predicted_profit']\n",
    "        })\n",
    "\n",
    "    bt = pd.DataFrame(records)\n",
    "\n",
    "    # Compute KPIs\n",
    "    bt['profit_uplift_pct'] = (bt['rec_pred_profit'] / (bt['actual_profit']+1e-9) - 1) * 100\n",
    "    bt['revenue_uplift_pct'] = (bt['rec_pred_revenue'] / (bt['actual_revenue']+1e-9) - 1) * 100\n",
    "    bt['price_change_pct'] = (bt['rec_price'] / bt['actual_price'] - 1) * 100\n",
    "\n",
    "    kpis = {\n",
    "        \"Median Profit Uplift % (Main KPI)\": bt['profit_uplift_pct'].median(),\n",
    "        \"Median Revenue Uplift %\": bt['revenue_uplift_pct'].median(),\n",
    "        \"Safe Recommendations % (±30%)\": (bt['price_change_pct'].abs() <= 30).mean()*100,\n",
    "        \"Coverage % (SKUs with recs)\": bt['StockCode'].nunique() / df['StockCode'].nunique() * 100\n",
    "    }\n",
    "\n",
    "    return kpis, bt\n"
   ]
  },
  {
   "cell_type": "markdown",
   "id": "8410cc8b-26bd-4b18-8418-37b987c72b5d",
   "metadata": {},
   "source": [
    "# Rolling Backtest"
   ]
  },
  {
   "cell_type": "code",
   "execution_count": 43,
   "id": "caa250ea-ec72-4992-8077-1a7e23c65c90",
   "metadata": {},
   "outputs": [
    {
     "name": "stdout",
     "output_type": "stream",
     "text": [
      "Avg RMSE (rolling): 83.5904474026537\n"
     ]
    }
   ],
   "source": [
    "def rolling_backtest(df_features, base_features, date_col='week', target_col='y_qty_log1p'):\n",
    "    weeks_sorted = sorted(df_features[date_col].unique())\n",
    "    cutoff = int(len(weeks_sorted)*0.6)\n",
    "    results = []\n",
    "    for i in range(cutoff, len(weeks_sorted)-1):\n",
    "        train_weeks, test_week = weeks_sorted[:i+1], weeks_sorted[i+1]\n",
    "        train_df = df_features[df_features[date_col].isin(train_weeks)]\n",
    "        test_df  = df_features[df_features[date_col]==test_week]\n",
    "        if len(test_df) < 5: \n",
    "            continue\n",
    "\n",
    "        X_train = pd.get_dummies(train_df[base_features], columns=['month'], drop_first=True)\n",
    "        X_test  = pd.get_dummies(test_df[base_features], columns=['month'], drop_first=True)\n",
    "        X_test  = X_test.reindex(columns=X_train.columns, fill_value=0)\n",
    "        y_train, y_test = train_df[target_col], test_df[target_col]\n",
    "\n",
    "        dtrain, dtest = xgb.DMatrix(X_train,label=y_train), xgb.DMatrix(X_test,label=y_test)\n",
    "        booster = xgb.train({'objective':'reg:squarederror','eta':0.05,'max_depth':6,'seed':42},\n",
    "                            dtrain, num_boost_round=200, evals=[(dtest,'test')],\n",
    "                            early_stopping_rounds=20, verbose_eval=False)\n",
    "\n",
    "        y_pred = np.expm1(booster.predict(dtest))\n",
    "        y_true = np.expm1(y_test)\n",
    "        rmse = np.sqrt(mean_squared_error(y_true, y_pred))\n",
    "\n",
    "        results.append({'week':str(test_week),'rmse':rmse,'n_test':len(test_df)})\n",
    "    return pd.DataFrame(results)\n",
    "\n",
    "rb = rolling_backtest(agg_feat, BASE_FEATURES)\n",
    "print(\"Avg RMSE (rolling):\", rb['rmse'].mean())\n"
   ]
  },
  {
   "cell_type": "markdown",
   "id": "5f21fdc8-2eeb-47cc-abba-5227481f3e45",
   "metadata": {},
   "source": [
    " # Model Testing and accuracy Check"
   ]
  },
  {
   "cell_type": "code",
   "execution_count": 44,
   "id": "1a722ff3-9efa-4a3a-a8f8-0042b2bc926d",
   "metadata": {},
   "outputs": [
    {
     "name": "stdout",
     "output_type": "stream",
     "text": [
      "Test RMSE: 91.812\n",
      "Test MAE : 38.210\n",
      "Test R2  : 0.502\n"
     ]
    }
   ],
   "source": [
    "import numpy as np\n",
    "from sklearn.metrics import mean_squared_error, mean_absolute_error, r2_score\n",
    "\n",
    "# Predict on test set (dtest was created earlier)\n",
    "y_pred_log = xgb_model.predict(dtest)\n",
    "y_pred = np.expm1(y_pred_log)\n",
    "y_true = np.expm1(y_test)  # y_test is log1p target\n",
    "\n",
    "rmse = np.sqrt(mean_squared_error(y_true, y_pred))\n",
    "mae = mean_absolute_error(y_true, y_pred)\n",
    "r2 = r2_score(y_true, y_pred)\n",
    "\n",
    "print(f\"Test RMSE: {rmse:.3f}\")\n",
    "print(f\"Test MAE : {mae:.3f}\")\n",
    "print(f\"Test R2  : {r2:.3f}\")"
   ]
  },
  {
   "cell_type": "code",
   "execution_count": 45,
   "id": "6db6792f-70d4-40a4-a82d-ba18e5658529",
   "metadata": {},
   "outputs": [
    {
     "name": "stdout",
     "output_type": "stream",
     "text": [
      "Baseline RMSE: 116.428\n",
      "Model RMSE   : 91.812\n"
     ]
    }
   ],
   "source": [
    "baseline_qty = test['qty_lag_1'].fillna(0).values\n",
    "# baseline is raw qty; for fair comparison use same scale\n",
    "baseline_rmse = np.sqrt(mean_squared_error(y_true, baseline_qty))\n",
    "baseline_mae  = mean_absolute_error(y_true, baseline_qty)\n",
    "\n",
    "print(\"Baseline RMSE:\", round(baseline_rmse,3))\n",
    "print(\"Model RMSE   :\", round(rmse,3))"
   ]
  },
  {
   "cell_type": "code",
   "execution_count": 46,
   "id": "0322cdb5-e2fb-49c4-8279-5d3978da48f0",
   "metadata": {},
   "outputs": [
    {
     "data": {
      "image/png": "[encoded data removed]",
      "text/plain": [
       "<Figure size 600x400 with 1 Axes>"
      ]
     },
     "metadata": {},
     "output_type": "display_data"
    }
   ],
   "source": [
    "plt.figure(figsize=(6,4))\n",
    "plt.scatter(y_true, y_pred, alpha=0.3, s=8)\n",
    "plt.plot([0, max(y_true.max(), y_pred.max())],[0, max(y_true.max(), y_pred.max())], color='red')\n",
    "plt.xlabel('Actual quantity')\n",
    "plt.ylabel('Predicted quantity')\n",
    "plt.title('Actual vs Predicted (test set)')\n",
    "plt.show()\n"
   ]
  },
  {
   "cell_type": "code",
   "execution_count": 47,
   "id": "0ccb28f3-eee9-4343-a4fd-c0a6a943ce1a",
   "metadata": {},
   "outputs": [
    {
     "name": "stdout",
     "output_type": "stream",
     "text": [
      "Mean revenue change (sample): 531.85 %\n",
      "Median revenue change (sample): 128.56 %\n"
     ]
    },
    {
     "data": {
      "text/html": [
       "<div>\n",
       "<style scoped>\n",
       "    .dataframe tbody tr th:only-of-type {\n",
       "        vertical-align: middle;\n",
       "    }\n",
       "\n",
       "    .dataframe tbody tr th {\n",
       "        vertical-align: top;\n",
       "    }\n",
       "\n",
       "    .dataframe thead th {\n",
       "        text-align: right;\n",
       "    }\n",
       "</style>\n",
       "<table border=\"1\" class=\"dataframe\">\n",
       "  <thead>\n",
       "    <tr style=\"text-align: right;\">\n",
       "      <th></th>\n",
       "      <th>StockCode</th>\n",
       "      <th>week</th>\n",
       "      <th>actual_price</th>\n",
       "      <th>actual_qty</th>\n",
       "      <th>actual_revenue</th>\n",
       "      <th>rec_price</th>\n",
       "      <th>rec_pred_qty</th>\n",
       "      <th>rec_pred_revenue</th>\n",
       "      <th>rec_vs_actual_pct</th>\n",
       "    </tr>\n",
       "  </thead>\n",
       "  <tbody>\n",
       "    <tr>\n",
       "      <th>0</th>\n",
       "      <td>10002</td>\n",
       "      <td>2010-09-20</td>\n",
       "      <td>0.850000</td>\n",
       "      <td>116.0</td>\n",
       "      <td>98.60</td>\n",
       "      <td>1.105000</td>\n",
       "      <td>46.149380</td>\n",
       "      <td>50.995065</td>\n",
       "      <td>-48.280868</td>\n",
       "    </tr>\n",
       "    <tr>\n",
       "      <th>1</th>\n",
       "      <td>10002</td>\n",
       "      <td>2010-09-27</td>\n",
       "      <td>0.824000</td>\n",
       "      <td>448.0</td>\n",
       "      <td>328.80</td>\n",
       "      <td>0.844600</td>\n",
       "      <td>182.424637</td>\n",
       "      <td>154.075848</td>\n",
       "      <td>-53.139949</td>\n",
       "    </tr>\n",
       "    <tr>\n",
       "      <th>2</th>\n",
       "      <td>10002</td>\n",
       "      <td>2010-10-04</td>\n",
       "      <td>0.850000</td>\n",
       "      <td>48.0</td>\n",
       "      <td>40.80</td>\n",
       "      <td>0.828750</td>\n",
       "      <td>184.750229</td>\n",
       "      <td>153.111752</td>\n",
       "      <td>275.273902</td>\n",
       "    </tr>\n",
       "    <tr>\n",
       "      <th>3</th>\n",
       "      <td>10002</td>\n",
       "      <td>2010-10-11</td>\n",
       "      <td>0.835556</td>\n",
       "      <td>474.0</td>\n",
       "      <td>350.90</td>\n",
       "      <td>0.835556</td>\n",
       "      <td>185.753525</td>\n",
       "      <td>155.207390</td>\n",
       "      <td>-55.768769</td>\n",
       "    </tr>\n",
       "    <tr>\n",
       "      <th>4</th>\n",
       "      <td>10002</td>\n",
       "      <td>2010-10-18</td>\n",
       "      <td>0.850000</td>\n",
       "      <td>47.0</td>\n",
       "      <td>39.95</td>\n",
       "      <td>0.828750</td>\n",
       "      <td>224.381866</td>\n",
       "      <td>185.956472</td>\n",
       "      <td>365.473021</td>\n",
       "    </tr>\n",
       "    <tr>\n",
       "      <th>5</th>\n",
       "      <td>10002</td>\n",
       "      <td>2010-10-25</td>\n",
       "      <td>0.850000</td>\n",
       "      <td>52.0</td>\n",
       "      <td>44.20</td>\n",
       "      <td>0.828750</td>\n",
       "      <td>185.753525</td>\n",
       "      <td>153.943234</td>\n",
       "      <td>248.287859</td>\n",
       "    </tr>\n",
       "    <tr>\n",
       "      <th>6</th>\n",
       "      <td>10002</td>\n",
       "      <td>2010-11-01</td>\n",
       "      <td>0.850000</td>\n",
       "      <td>170.0</td>\n",
       "      <td>144.50</td>\n",
       "      <td>0.828750</td>\n",
       "      <td>189.749908</td>\n",
       "      <td>157.255237</td>\n",
       "      <td>8.827153</td>\n",
       "    </tr>\n",
       "    <tr>\n",
       "      <th>7</th>\n",
       "      <td>10002</td>\n",
       "      <td>2010-11-08</td>\n",
       "      <td>0.850000</td>\n",
       "      <td>4.0</td>\n",
       "      <td>3.40</td>\n",
       "      <td>0.828750</td>\n",
       "      <td>183.587738</td>\n",
       "      <td>152.148338</td>\n",
       "      <td>4374.951115</td>\n",
       "    </tr>\n",
       "    <tr>\n",
       "      <th>8</th>\n",
       "      <td>10002</td>\n",
       "      <td>2010-11-15</td>\n",
       "      <td>0.830000</td>\n",
       "      <td>713.0</td>\n",
       "      <td>534.55</td>\n",
       "      <td>0.830000</td>\n",
       "      <td>170.536392</td>\n",
       "      <td>141.545206</td>\n",
       "      <td>-73.520680</td>\n",
       "    </tr>\n",
       "    <tr>\n",
       "      <th>9</th>\n",
       "      <td>10002</td>\n",
       "      <td>2010-11-22</td>\n",
       "      <td>0.850000</td>\n",
       "      <td>47.0</td>\n",
       "      <td>39.95</td>\n",
       "      <td>0.828750</td>\n",
       "      <td>181.462967</td>\n",
       "      <td>150.387434</td>\n",
       "      <td>276.439134</td>\n",
       "    </tr>\n",
       "  </tbody>\n",
       "</table>\n",
       "</div>"
      ],
      "text/plain": [
       "   StockCode       week  actual_price  actual_qty  actual_revenue  rec_price  \\\n",
       "0      10002 2010-09-20      0.850000       116.0           98.60   1.105000   \n",
       "1      10002 2010-09-27      0.824000       448.0          328.80   0.844600   \n",
       "2      10002 2010-10-04      0.850000        48.0           40.80   0.828750   \n",
       "3      10002 2010-10-11      0.835556       474.0          350.90   0.835556   \n",
       "4      10002 2010-10-18      0.850000        47.0           39.95   0.828750   \n",
       "5      10002 2010-10-25      0.850000        52.0           44.20   0.828750   \n",
       "6      10002 2010-11-01      0.850000       170.0          144.50   0.828750   \n",
       "7      10002 2010-11-08      0.850000         4.0            3.40   0.828750   \n",
       "8      10002 2010-11-15      0.830000       713.0          534.55   0.830000   \n",
       "9      10002 2010-11-22      0.850000        47.0           39.95   0.828750   \n",
       "\n",
       "   rec_pred_qty  rec_pred_revenue  rec_vs_actual_pct  \n",
       "0     46.149380         50.995065         -48.280868  \n",
       "1    182.424637        154.075848         -53.139949  \n",
       "2    184.750229        153.111752         275.273902  \n",
       "3    185.753525        155.207390         -55.768769  \n",
       "4    224.381866        185.956472         365.473021  \n",
       "5    185.753525        153.943234         248.287859  \n",
       "6    189.749908        157.255237           8.827153  \n",
       "7    183.587738        152.148338        4374.951115  \n",
       "8    170.536392        141.545206         -73.520680  \n",
       "9    181.462967        150.387434         276.439134  "
      ]
     },
     "metadata": {},
     "output_type": "display_data"
    }
   ],
   "source": [
    "# sample small set for speed \n",
    "sample = test.head(10).copy()\n",
    "\n",
    "records = []\n",
    "for _, row in sample.iterrows():\n",
    "    rec = recommend_price_grid_profit(xgb_model, row, feature_columns,\n",
    "                               competitor_price=row.get('competitor_price', None),\n",
    "                               clamp_pct=0.30, price_grid_count=25)\n",
    "    records.append({\n",
    "        'StockCode': row['StockCode'],\n",
    "        'week': row['week'],\n",
    "        'actual_price': row['avg_price'],\n",
    "        'actual_qty': row['total_quantity'],\n",
    "        'actual_revenue': row['total_revenue'],\n",
    "        'rec_price': rec['price'],\n",
    "        'rec_pred_qty': rec['predicted_qty'],\n",
    "        'rec_pred_revenue': rec['predicted_revenue']\n",
    "    })\n",
    "\n",
    "bt = pd.DataFrame(records)\n",
    "bt['rec_vs_actual_pct'] = (bt['rec_pred_revenue'] / bt['actual_revenue'] - 1) * 100\n",
    "\n",
    "print(\"Mean revenue change (sample):\", bt['rec_vs_actual_pct'].mean().round(2), \"%\")\n",
    "print(\"Median revenue change (sample):\", bt['rec_vs_actual_pct'].median().round(2), \"%\")\n",
    "display(bt.head(10))\n"
   ]
  },
  {
   "cell_type": "code",
   "execution_count": 48,
   "id": "9ea81337-158d-4c53-bd6b-8451ad7f874c",
   "metadata": {},
   "outputs": [
    {
     "name": "stdout",
     "output_type": "stream",
     "text": [
      "Percent recommendations within ±30%: 90.0 %\n"
     ]
    },
    {
     "data": {
      "image/png": "[encoded data removed]",
      "text/plain": [
       "<Figure size 640x480 with 1 Axes>"
      ]
     },
     "metadata": {},
     "output_type": "display_data"
    }
   ],
   "source": [
    "bt['price_change_pct'] = (bt['rec_price'] / bt['actual_price'] - 1) * 100\n",
    "print(\"Percent recommendations within ±30%:\",\n",
    "      (bt['price_change_pct'].abs() <= 30).mean()*100, \"%\")\n",
    "bt['price_change_pct'].hist(bins=25)\n",
    "plt.xlabel('Recommended price change %')\n",
    "plt.show()\n"
   ]
  },
  {
   "cell_type": "code",
   "execution_count": 49,
   "id": "80b0b234-3162-4d6c-ae27-2c5c97721633",
   "metadata": {},
   "outputs": [
    {
     "name": "stdout",
     "output_type": "stream",
     "text": [
      "Any negative predicted qty? False\n"
     ]
    }
   ],
   "source": [
    "print(\"Any negative predicted qty?\", (bt['rec_pred_qty'] < 0).any())\n"
   ]
  },
  {
   "cell_type": "markdown",
   "id": "a89c5cfa-03cd-4bb2-b290-84a25e16f47d",
   "metadata": {},
   "source": [
    "# SAVING MODEL"
   ]
  },
  {
   "cell_type": "code",
   "execution_count": 50,
   "id": "df643498-f886-4722-9c59-61f1c32e08fb",
   "metadata": {},
   "outputs": [
    {
     "data": {
      "text/plain": [
       "['models/feature_columns.pkl']"
      ]
     },
     "execution_count": 50,
     "metadata": {},
     "output_type": "execute_result"
    }
   ],
   "source": [
    "# Save trained XGBoost model\n",
    "joblib.dump(xgb_model, \"models/xgb_qty_model.joblib\")\n",
    "\n",
    "# Save feature columns\n",
    "joblib.dump(feature_columns, \"models/feature_columns.pkl\")\n"
   ]
  },
  {
   "cell_type": "markdown",
   "id": "e49ed003-14a6-4a3d-983f-9b1ae1a2de82",
   "metadata": {},
   "source": [
    "# Generate Backtest Reports for Business KPI Summaries"
   ]
  },
  {
   "cell_type": "code",
   "execution_count": 53,
   "id": "fb05df36-e8d9-4797-835a-dce05bb3ab49",
   "metadata": {},
   "outputs": [
    {
     "name": "stdout",
     "output_type": "stream",
     "text": [
      "\n",
      "✅ Business KPI Summary (Sample Saved)\n",
      "Median Profit Uplift %: 125.98\n",
      "Median Revenue Uplift %: 135.98\n",
      "Safe Recommendations % (±30%): 87.25\n",
      "Coverage % (SKUs with recs): 100.00\n"
     ]
    }
   ],
   "source": [
    "sample_test = test.sample(400, random_state=42)\n",
    "\n",
    "# Run business KPI evaluation\n",
    "kpis, bt = evaluate_business_kpis(sample_test, xgb_model, feature_columns, clamp_pct=0.30)\n",
    "\n",
    "# Save detailed results\n",
    "os.makedirs(\"reports\", exist_ok=True)\n",
    "bt.to_csv(\"reports/backtest_business_kpis.csv\", index=False)\n",
    "\n",
    "print(\"\\n✅ Business KPI Summary (Sample Saved)\")\n",
    "for k, v in kpis.items():\n",
    "    print(f\"{k}: {v:.2f}\")\n"
   ]
  },
  {
   "cell_type": "code",
   "execution_count": 56,
   "id": "d3e2a10e-acfa-4904-ba8f-f757432bc4ab",
   "metadata": {},
   "outputs": [
    {
     "name": "stdout",
     "output_type": "stream",
     "text": [
      "\n",
      "✅ Profit-Focused KPI Summary (Sample Saved)\n",
      "Median Profit Uplift % (Main KPI): 125.98\n",
      "Median Revenue Uplift %: 135.98\n",
      "Safe Recommendations % (±30%): 87.25\n",
      "Coverage % (SKUs with recs): 100.00\n"
     ]
    }
   ],
   "source": [
    "# Profit-focused KPI evaluation\n",
    "kpis_profit, bt_profit = evaluate_business_kpis_profit(sample_test, xgb_model, feature_columns, clamp_pct=0.30)\n",
    "\n",
    "# Save profit-focused results\n",
    "bt_profit.to_csv(\"reports/backtest_profit_kpis.csv\", index=False)\n",
    "\n",
    "print(\"\\n✅ Profit-Focused KPI Summary (Sample Saved)\")\n",
    "for k, v in kpis_profit.items():\n",
    "    print(f\"{k}: {v:.2f}\")\n"
   ]
  },
  {
   "cell_type": "code",
   "execution_count": null,
   "id": "c4343d63-60bd-4901-af56-ddddb1c9509c",
   "metadata": {},
   "outputs": [],
   "source": []
  }
 ],
 "metadata": {
  "kernelspec": {
   "display_name": "Python 3 (ipykernel)",
   "language": "python",
   "name": "python3"
  },
  "language_info": {
   "codemirror_mode": {
    "name": "ipython",
    "version": 3
   },
   "file_extension": ".py",
   "mimetype": "text/x-python",
   "name": "python",
   "nbconvert_exporter": "python",
   "pygments_lexer": "ipython3",
   "version": "3.13.7"
  }
 },
 "nbformat": 4,
 "nbformat_minor": 5
}
